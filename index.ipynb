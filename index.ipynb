{
 "cells": [
  {
   "cell_type": "markdown",
   "metadata": {},
   "source": [
    "# Map, Filter and Lambda in Python Lab\n",
    "\n",
    "## Objectives\n",
    "* Apply and combine the skills covered for map, filter and lambda functions.\n",
    "* Modify given data using map and lambda functions as an alternative to writing for loops.\n",
    "* Filter given data using filter function to only include the data that meets a given crietria. "
   ]
  },
  {
   "cell_type": "markdown",
   "metadata": {},
   "source": [
    "### Introduction"
   ]
  },
  {
   "cell_type": "markdown",
   "metadata": {},
   "source": [
    "In this lab, we'll put our new knowledge about `map`, `filter` and `lambda` functions to the test. We'll also get back to working with Yelp again. Let's get started!"
   ]
  },
  {
   "cell_type": "code",
   "execution_count": 1,
   "metadata": {},
   "outputs": [],
   "source": [
    "from restaurants import yelp_restaurants # in this line we are simply importing our data we gathered from Yelp."
   ]
  },
  {
   "cell_type": "code",
   "execution_count": 2,
   "metadata": {},
   "outputs": [],
   "source": [
    "restaurants = list(map(lambda restaurant: dict(name=restaurant['name'], \n",
    "                                           price=restaurant['price'], \n",
    "                                           is_closed=restaurant['is_closed'],\n",
    "                                           review_count=restaurant['review_count'],\n",
    "                                          ), yelp_restaurants))"
   ]
  },
  {
   "cell_type": "markdown",
   "metadata": {},
   "source": [
    "We have a list of five restaurants from the Yelp Api.  Let's take a look at the list."
   ]
  },
  {
   "cell_type": "code",
   "execution_count": 3,
   "metadata": {},
   "outputs": [
    {
     "data": {
      "text/plain": [
       "[{'name': 'Fork & Fig',\n",
       "  'price': '$$',\n",
       "  'is_closed': False,\n",
       "  'review_count': 610},\n",
       " {'name': 'Salt And Board',\n",
       "  'price': '$$',\n",
       "  'is_closed': False,\n",
       "  'review_count': 11},\n",
       " {'name': 'Frontier Restaurant',\n",
       "  'price': '$',\n",
       "  'is_closed': False,\n",
       "  'review_count': 1373},\n",
       " {'name': 'Nexus Brewery',\n",
       "  'price': '$$',\n",
       "  'is_closed': False,\n",
       "  'review_count': 680},\n",
       " {'name': \"Devon's Pop Smoke\",\n",
       "  'price': '$$',\n",
       "  'is_closed': False,\n",
       "  'review_count': 54},\n",
       " {'name': 'Cocina Azul',\n",
       "  'price': '$$',\n",
       "  'is_closed': True,\n",
       "  'review_count': 647},\n",
       " {'name': 'Philly Steaks',\n",
       "  'price': '$$',\n",
       "  'is_closed': False,\n",
       "  'review_count': 25},\n",
       " {'name': 'Stripes Biscuit',\n",
       "  'price': '$$',\n",
       "  'is_closed': True,\n",
       "  'review_count': 20}]"
      ]
     },
     "execution_count": 3,
     "metadata": {},
     "output_type": "execute_result"
    }
   ],
   "source": [
    "restaurants"
   ]
  },
  {
   "cell_type": "markdown",
   "metadata": {},
   "source": [
    "### Using map"
   ]
  },
  {
   "cell_type": "markdown",
   "metadata": {},
   "source": [
    "As you can see, it's a little tricky to see the names of all of the restaurants due to amount of data. Let's create a new list `names` to contain only the names of all the restaurants from the list above. Use the `map` and `lambda` functions, along with your understanding of a dictionary's structure to do so."
   ]
  },
  {
   "cell_type": "code",
   "execution_count": 36,
   "metadata": {
    "scrolled": true
   },
   "outputs": [
    {
     "name": "stdout",
     "output_type": "stream",
     "text": [
      "inp is... {'id': 'fork-and-fig-albuquerque', 'name': 'Fork & Fig', 'image_url': 'https://s3-media1.fl.yelpcdn.com/bphoto/_-DpXKfS3jv6DyA47g6Fxg/o.jpg', 'is_closed': False, 'url': 'https://www.yelp.com/biz/fork-and-fig-albuquerque?adjust_creative=SYc8R4Gowqru5h4SBKZXsQ&utm_campaign=yelp_api_v3&utm_medium=api_v3_business_search&utm_source=SYc8R4Gowqru5h4SBKZXsQ', 'review_count': 610, 'categories': [{'alias': 'burgers', 'title': 'Burgers'}, {'alias': 'sandwiches', 'title': 'Sandwiches'}, {'alias': 'salad', 'title': 'Salad'}], 'rating': 4.5, 'coordinates': {'latitude': 35.10871, 'longitude': -106.56739}, 'transactions': [], 'price': '$$', 'location': {'address1': '6904 Menaul Blvd NE', 'address2': 'Ste C', 'address3': '', 'city': 'Albuquerque', 'zip_code': '87110', 'country': 'US', 'state': 'NM', 'display_address': ['6904 Menaul Blvd NE', 'Ste C', 'Albuquerque, NM 87110']}, 'phone': '+15058815293', 'display_phone': '(505) 881-5293', 'distance': 3571.724649307866}\n",
      "inp is... {'id': 'salt-and-board-albuquerque-4', 'name': 'Salt And Board', 'image_url': 'https://s3-media2.fl.yelpcdn.com/bphoto/wXUdc0JpE1zfu5hQL7FgEA/o.jpg', 'is_closed': False, 'url': 'https://www.yelp.com/biz/salt-and-board-albuquerque-4?adjust_creative=SYc8R4Gowqru5h4SBKZXsQ&utm_campaign=yelp_api_v3&utm_medium=api_v3_business_search&utm_source=SYc8R4Gowqru5h4SBKZXsQ', 'review_count': 11, 'categories': [{'alias': 'gastropubs', 'title': 'Gastropubs'}], 'rating': 4.5, 'coordinates': {'latitude': 35.08024, 'longitude': -106.62102}, 'transactions': [], 'price': '$$', 'location': {'address1': '115 Harvard Dr SE', 'address2': 'Ste 9', 'address3': None, 'city': 'Albuquerque', 'zip_code': '87106', 'country': 'US', 'state': 'NM', 'display_address': ['115 Harvard Dr SE', 'Ste 9', 'Albuquerque, NM 87106']}, 'phone': '+15052192001', 'display_phone': '(505) 219-2001', 'distance': 4150.24879173833}\n",
      "inp is... {'id': 'frontier-restaurant-albuquerque-2', 'name': 'Frontier Restaurant', 'image_url': 'https://s3-media4.fl.yelpcdn.com/bphoto/M9L2z6-G0NobuDJ6YTh6VA/o.jpg', 'is_closed': False, 'url': 'https://www.yelp.com/biz/frontier-restaurant-albuquerque-2?adjust_creative=SYc8R4Gowqru5h4SBKZXsQ&utm_campaign=yelp_api_v3&utm_medium=api_v3_business_search&utm_source=SYc8R4Gowqru5h4SBKZXsQ', 'review_count': 1373, 'categories': [{'alias': 'mexican', 'title': 'Mexican'}, {'alias': 'diners', 'title': 'Diners'}, {'alias': 'tradamerican', 'title': 'American (Traditional)'}], 'rating': 4.0, 'coordinates': {'latitude': 35.0808088832532, 'longitude': -106.619402244687}, 'transactions': [], 'price': '$', 'location': {'address1': '2400 Central Ave SE', 'address2': '', 'address3': '', 'city': 'Albuquerque', 'zip_code': '87106', 'country': 'US', 'state': 'NM', 'display_address': ['2400 Central Ave SE', 'Albuquerque, NM 87106']}, 'phone': '+15052660550', 'display_phone': '(505) 266-0550', 'distance': 4033.6583235266075}\n",
      "inp is... {'id': 'nexus-brewery-albuquerque', 'name': 'Nexus Brewery', 'image_url': 'https://s3-media3.fl.yelpcdn.com/bphoto/RVRi4k4gCiEmlMaooWxvOA/o.jpg', 'is_closed': False, 'url': 'https://www.yelp.com/biz/nexus-brewery-albuquerque?adjust_creative=SYc8R4Gowqru5h4SBKZXsQ&utm_campaign=yelp_api_v3&utm_medium=api_v3_business_search&utm_source=SYc8R4Gowqru5h4SBKZXsQ', 'review_count': 680, 'categories': [{'alias': 'breweries', 'title': 'Breweries'}, {'alias': 'soulfood', 'title': 'Soul Food'}, {'alias': 'southern', 'title': 'Southern'}], 'rating': 4.0, 'coordinates': {'latitude': 35.13372, 'longitude': -106.606624}, 'transactions': [], 'price': '$$', 'location': {'address1': '4730 Pan American E Fwy NE', 'address2': 'Ste D', 'address3': '', 'city': 'Albuquerque', 'zip_code': '87109', 'country': 'US', 'state': 'NM', 'display_address': ['4730 Pan American E Fwy NE', 'Ste D', 'Albuquerque, NM 87109']}, 'phone': '+15052424100', 'display_phone': '(505) 242-4100', 'distance': 2045.729083083992}\n",
      "inp is... {'id': 'devons-pop-smoke-albuquerque', 'name': \"Devon's Pop Smoke\", 'image_url': 'https://s3-media1.fl.yelpcdn.com/bphoto/OfmCIETYvaZ7dYBC3lidvg/o.jpg', 'is_closed': False, 'url': 'https://www.yelp.com/biz/devons-pop-smoke-albuquerque?adjust_creative=SYc8R4Gowqru5h4SBKZXsQ&utm_campaign=yelp_api_v3&utm_medium=api_v3_business_search&utm_source=SYc8R4Gowqru5h4SBKZXsQ', 'review_count': 54, 'categories': [{'alias': 'gastropubs', 'title': 'Gastropubs'}], 'rating': 4.0, 'coordinates': {'latitude': 35.1450414451006, 'longitude': -106.58143222332}, 'transactions': [], 'price': '$$', 'location': {'address1': '6001 Osuna Rd NE', 'address2': '', 'address3': None, 'city': 'Albuquerque', 'zip_code': '87109', 'country': 'US', 'state': 'NM', 'display_address': ['6001 Osuna Rd NE', 'Albuquerque, NM 87109']}, 'phone': '+15055082829', 'display_phone': '(505) 508-2829', 'distance': 3977.603085912232}\n",
      "inp is... {'id': 'cocina-azul-albuquerque-2', 'name': 'Cocina Azul', 'image_url': 'https://s3-media4.fl.yelpcdn.com/bphoto/nYOAd4cMbQH1sm3eB-NL5A/o.jpg', 'is_closed': True, 'url': 'https://www.yelp.com/biz/cocina-azul-albuquerque-2?adjust_creative=SYc8R4Gowqru5h4SBKZXsQ&utm_campaign=yelp_api_v3&utm_medium=api_v3_business_search&utm_source=SYc8R4Gowqru5h4SBKZXsQ', 'review_count': 647, 'categories': [{'alias': 'newmexican', 'title': 'New Mexican Cuisine'}], 'rating': 4.5, 'coordinates': {'latitude': 35.095403, 'longitude': -106.658516}, 'transactions': ['pickup', 'delivery'], 'price': '$$', 'location': {'address1': '1134 Mountain Rd NW', 'address2': None, 'address3': '', 'city': 'Albuquerque', 'zip_code': '87102', 'country': 'US', 'state': 'NM', 'display_address': ['1134 Mountain Rd NW', 'Albuquerque, NM 87102']}, 'phone': '+15058312500', 'display_phone': '(505) 831-2500', 'distance': 5283.005357137309}\n",
      "inp is... {'id': 'philly-steaks-albuquerque', 'name': 'Philly Steaks', 'image_url': 'https://s3-media2.fl.yelpcdn.com/bphoto/jtI7kcSBifi9Qs8IK8EvCg/o.jpg', 'is_closed': False, 'url': 'https://www.yelp.com/biz/philly-steaks-albuquerque?adjust_creative=SYc8R4Gowqru5h4SBKZXsQ&utm_campaign=yelp_api_v3&utm_medium=api_v3_business_search&utm_source=SYc8R4Gowqru5h4SBKZXsQ', 'review_count': 25, 'categories': [{'alias': 'cheesesteaks', 'title': 'Cheesesteaks'}, {'alias': 'sandwiches', 'title': 'Sandwiches'}, {'alias': 'burgers', 'title': 'Burgers'}], 'rating': 4.5, 'coordinates': {'latitude': 35.1123000013551, 'longitude': -106.515109911561}, 'transactions': [], 'price': '$$', 'location': {'address1': '2520 Juan Tabo NE', 'address2': 'Ste C', 'address3': None, 'city': 'Albuquerque', 'zip_code': '87112', 'country': 'US', 'state': 'NM', 'display_address': ['2520 Juan Tabo NE', 'Ste C', 'Albuquerque, NM 87112']}, 'phone': '+15055822527', 'display_phone': '(505) 582-2527', 'distance': 8255.770353006516}\n",
      "inp is... {'id': 'stripes-biscuit-albuquerque', 'name': 'Stripes Biscuit', 'image_url': 'https://s3-media2.fl.yelpcdn.com/bphoto/UPxZj-wPyXvUa-5NO8MGEA/o.jpg', 'is_closed': True, 'url': 'https://www.yelp.com/biz/stripes-biscuit-albuquerque?adjust_creative=SYc8R4Gowqru5h4SBKZXsQ&utm_campaign=yelp_api_v3&utm_medium=api_v3_business_search&utm_source=SYc8R4Gowqru5h4SBKZXsQ', 'review_count': 20, 'categories': [{'alias': 'breakfast_brunch', 'title': 'Breakfast & Brunch'}, {'alias': 'newmexican', 'title': 'New Mexican Cuisine'}], 'rating': 4.5, 'coordinates': {'latitude': 35.0564674514096, 'longitude': -106.579337431337}, 'transactions': [], 'price': '$$', 'location': {'address1': '5701 Gibson Blvd SE', 'address2': '', 'address3': None, 'city': 'Albuquerque', 'zip_code': '87108', 'country': 'US', 'state': 'NM', 'display_address': ['5701 Gibson Blvd SE', 'Albuquerque, NM 87108']}, 'phone': '+15058594298', 'display_phone': '(505) 859-4298', 'distance': 6974.481854588378}\n",
      "[None, None, None, None, None, None, None, None]\n",
      "inp is... [1]\n"
     ]
    },
    {
     "data": {
      "text/plain": [
       "[]"
      ]
     },
     "execution_count": 36,
     "metadata": {},
     "output_type": "execute_result"
    }
   ],
   "source": [
    "names = []\n",
    "def l(inp):\n",
    "  #names.append(yelp_restaurants['name']), yelp_restaurants)\n",
    "  print(f)\n",
    "  #names.append(inp['name'])\n",
    "print(list(map(l,yelp_restaurants)))\n",
    "l([1])\n",
    "names\n",
    "    \n",
    "#list(map(lambda l: names.append(yelp_restaurants['name']), yelp_restaurants))\n",
    "\n",
    "#names\n",
    "# ['Fork & Fig',\n",
    "#  'Salt And Board',\n",
    "#  'Frontier Restaurant',\n",
    "#  'Nexus Brewery',\n",
    "#  \"Devon's Pop Smoke\",\n",
    "#  'Cocina Azul',\n",
    "#  'Philly Steaks',\n",
    "#  'Stripes Biscuit']"
   ]
  },
  {
   "cell_type": "markdown",
   "metadata": {},
   "source": [
    "This worked well. Now let's get a sense of how many reviews were written for each of these restaurants. Just like above, create a new list `review_counts` to only contain the values of `review_count` for each restaurant.    "
   ]
  },
  {
   "cell_type": "code",
   "execution_count": 40,
   "metadata": {},
   "outputs": [],
   "source": [
    "review_counts = None\n",
    "review_counts # [610, 11, 1373, 680, 54, 647, 25, 20]"
   ]
  },
  {
   "cell_type": "markdown",
   "metadata": {},
   "source": [
    "Let's say we want to get a sense of total number of reviews in the whole dataset. We can add up the elements in `review_counts` list, and assign the result to a variable named `total_reviews`."
   ]
  },
  {
   "cell_type": "code",
   "execution_count": null,
   "metadata": {},
   "outputs": [],
   "source": [
    "total_reviews = None\n",
    "total_reviews # 3420"
   ]
  },
  {
   "cell_type": "markdown",
   "metadata": {},
   "source": [
    "It's a little tricky to work with the price in the format of dollars signs i.e. \\$ and \\$$ based on how expensive the restaurant is.  \n",
    "\n",
    "So write a function called `format_restaurants` that changes each restaurant to have the attribute `'price'` point to the number of dollar signs (i.e. 1 for \\$ and 2 for \\$$).  We'll get you started with the function, `format_restaurant`."
   ]
  },
  {
   "cell_type": "code",
   "execution_count": null,
   "metadata": {},
   "outputs": [],
   "source": [
    "def format_restaurant(restaurant):\n",
    "    if type(restaurant['price']) == str:\n",
    "        restaurant['price'] = len(restaurant['price'])\n",
    "    return restaurant"
   ]
  },
  {
   "cell_type": "code",
   "execution_count": null,
   "metadata": {},
   "outputs": [],
   "source": [
    "format_restaurant(restaurants[0]) # {'is_closed': False, 'name': 'Fork & Fig', 'price': 2, 'review_count': 610}"
   ]
  },
  {
   "cell_type": "markdown",
   "metadata": {},
   "source": [
    "Now write another function called `map_format_restaurants` using `map`, that uses above function and returns a list of restaurants with each of them formatted with price pointing to the respective number."
   ]
  },
  {
   "cell_type": "code",
   "execution_count": null,
   "metadata": {},
   "outputs": [],
   "source": [
    "def map_format_restaurants(restaurants):\n",
    "    pass"
   ]
  },
  {
   "cell_type": "code",
   "execution_count": null,
   "metadata": {
    "scrolled": true
   },
   "outputs": [],
   "source": [
    "map_format_restaurants(restaurants)\n",
    "\n",
    "# [{'is_closed': False, 'name': 'Fork & Fig', 'price': 2, 'review_count': 610},\n",
    "#  {'is_closed': False,\n",
    "#   'name': 'Salt And Board',\n",
    "#   'price': 2,\n",
    "#   'review_count': 11},\n",
    "#  {'is_closed': False,\n",
    "#   'name': 'Frontier Restaurant',\n",
    "#   'price': 1,\n",
    "#   'review_count': 1373},\n",
    "#  {'is_closed': False,\n",
    "#   'name': 'Nexus Brewery',\n",
    "#   'price': 2,\n",
    "#   'review_count': 680},\n",
    "#  {'is_closed': False,\n",
    "#   'name': \"Devon's Pop Smoke\",\n",
    "#   'price': 2,\n",
    "#   'review_count': 54},\n",
    "#  {'is_closed': True, 'name': 'Cocina Azul', 'price': 2, 'review_count': 647},\n",
    "#  {'is_closed': False, 'name': 'Philly Steaks', 'price': 2, 'review_count': 25},\n",
    "#  {'is_closed': True,\n",
    "#   'name': 'Stripes Biscuit',\n",
    "#   'price': 2,\n",
    "#   'review_count': 20}]"
   ]
  },
  {
   "cell_type": "markdown",
   "metadata": {},
   "source": [
    "### Filter"
   ]
  },
  {
   "cell_type": "markdown",
   "metadata": {},
   "source": [
    "Now let's use `filter` to search for restaurants based on specific criteria.  \n",
    "\n",
    "Write a function called `open_restaurants` using `filter` and `lambda` that takes in a list of restaurants and only returns those that are open. You can use the distionary key `is_closed` to make a decision in your code. "
   ]
  },
  {
   "cell_type": "code",
   "execution_count": null,
   "metadata": {},
   "outputs": [],
   "source": [
    "def open_restaurants(restaurants):\n",
    "    pass"
   ]
  },
  {
   "cell_type": "code",
   "execution_count": null,
   "metadata": {},
   "outputs": [],
   "source": [
    "open_restaurants(restaurants)\n",
    "\n",
    "# [{'is_closed': False, 'name': 'Fork & Fig', 'price': 2, 'review_count': 610},\n",
    "#  {'is_closed': False,\n",
    "#   'name': 'Salt And Board',\n",
    "#   'price': 2,\n",
    "#   'review_count': 11},\n",
    "#  {'is_closed': False,\n",
    "#   'name': 'Frontier Restaurant',\n",
    "#   'price': 1,\n",
    "#   'review_count': 1373},\n",
    "#  {'is_closed': False,\n",
    "#   'name': 'Nexus Brewery',\n",
    "#   'price': 2,\n",
    "#   'review_count': 680},\n",
    "#  {'is_closed': False,\n",
    "#   'name': \"Devon's Pop Smoke\",\n",
    "#   'price': 2,\n",
    "#   'review_count': 54},\n",
    "#  {'is_closed': False, 'name': 'Philly Steaks', 'price': 2, 'review_count': 25}]"
   ]
  },
  {
   "cell_type": "markdown",
   "metadata": {},
   "source": [
    "Let's say we now want to look at restaurants that are comparatively cheaper i.e. \\$ or 1 as price. \n",
    "\n",
    "Write a function called `cheap_restaurants` using filter, that returns the restaurants that have a price of  1, or '$'.  "
   ]
  },
  {
   "cell_type": "code",
   "execution_count": null,
   "metadata": {},
   "outputs": [],
   "source": [
    "def cheapest_restaurants(restaurants):\n",
    "    pass"
   ]
  },
  {
   "cell_type": "code",
   "execution_count": null,
   "metadata": {
    "scrolled": true
   },
   "outputs": [],
   "source": [
    "cheapest_restaurants(restaurants)\n",
    "\n",
    "# [{'is_closed': False,\n",
    "#   'name': 'Frontier Restaurant',\n",
    "#   'price': 1,\n",
    "#   'review_count': 1373}]"
   ]
  },
  {
   "cell_type": "markdown",
   "metadata": {},
   "source": [
    "So we have only one restaurant in the data that meets the given criteria. Next, we shall write a function that filters out only those restaurants that 100 reviews or more, since we want to make sure there is some solid data points backing the reviews -- we are burgeoning data scientists after all!"
   ]
  },
  {
   "cell_type": "code",
   "execution_count": null,
   "metadata": {},
   "outputs": [],
   "source": [
    "def sufficiently_reviewed_restaurants(restaurants):\n",
    "    pass"
   ]
  },
  {
   "cell_type": "code",
   "execution_count": null,
   "metadata": {},
   "outputs": [],
   "source": [
    "sufficiently_reviewed_restaurants(restaurants)\n",
    "\n",
    "# [{'name': 'Fork & Fig', 'price': 2, 'is_closed': False, 'review_count': 610},\n",
    "#  {'name': 'Frontier Restaurant', 'price': 1, 'is_closed': False,  'review_count': 1373},\n",
    "#  {'name': 'Nexus Brewery', 'price': 2, 'is_closed': False, 'review_count': 680},\n",
    "#  {'name': 'Cocina Azul', 'price': 2, 'is_closed': True, 'review_count': 647}]"
   ]
  },
  {
   "cell_type": "markdown",
   "metadata": {},
   "source": [
    "### Summary"
   ]
  },
  {
   "cell_type": "markdown",
   "metadata": {},
   "source": [
    "Neat! In this lab, we successfully proved our prowess when it comes to iterating over each element of a list with both `map` and `filter`! We used `map` to format our data into ways that better help us answer questions and extrapolate insights. We used `filter` to return subsets of our data like our restaurants that were only one $ or our restaurants that had 100 or more reviews."
   ]
  }
 ],
 "metadata": {
  "kernelspec": {
   "display_name": "Python 3",
   "language": "python",
   "name": "python3"
  },
  "language_info": {
   "codemirror_mode": {
    "name": "ipython",
    "version": 3
   },
   "file_extension": ".py",
   "mimetype": "text/x-python",
   "name": "python",
   "nbconvert_exporter": "python",
   "pygments_lexer": "ipython3",
   "version": "3.6.6"
  }
 },
 "nbformat": 4,
 "nbformat_minor": 2
}
